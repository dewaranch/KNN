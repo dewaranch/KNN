{
 "cells": [
  {
   "cell_type": "markdown",
   "metadata": {},
   "source": [
    "# Coding KNN from scratch"
   ]
  },
  {
   "cell_type": "code",
   "execution_count": 2,
   "metadata": {},
   "outputs": [],
   "source": [
    "##Overview of structure\n",
    "#Function will have 3 inputs.\n",
    "#1. Training data\n",
    "#2. Test data.\n",
    "#3. k parameter\n",
    "#we can add features/inputs later if needed (see below for ideas.)\n",
    "\n",
    "#goals of the program\n",
    "#1. first we'll do binary classification.\n",
    "#2. then we'll add multi-label classification.\n",
    "#3. then we'll add regression.\n",
    "#4. add other features, like... alter the prediction minimum from .5\n",
    "#5. add cool features like suggestions for k based on test output.\n",
    "\n",
    "def knn(train,test,k=5):\n",
    "    #First the function will normalize the data\n",
    "    normalize(train)\n",
    "    normalize(test)\n",
    "    \n",
    "    #then the function will loop through each test point\n",
    "    for i in range\n",
    "    #Caculate distance between test point and each training put\n",
    "    \n",
    "    \n",
    "    #Identify the five closest\n",
    "    \n",
    "    \n",
    "    \n",
    "    "
   ]
  },
  {
   "cell_type": "code",
   "execution_count": null,
   "metadata": {},
   "outputs": [],
   "source": []
  }
 ],
 "metadata": {
  "kernelspec": {
   "display_name": "Python 3",
   "language": "python",
   "name": "python3"
  },
  "language_info": {
   "codemirror_mode": {
    "name": "ipython",
    "version": 3
   },
   "file_extension": ".py",
   "mimetype": "text/x-python",
   "name": "python",
   "nbconvert_exporter": "python",
   "pygments_lexer": "ipython3",
   "version": "3.7.4"
  }
 },
 "nbformat": 4,
 "nbformat_minor": 2
}
